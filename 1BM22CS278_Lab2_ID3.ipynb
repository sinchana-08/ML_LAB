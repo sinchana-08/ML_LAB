{
  "nbformat": 4,
  "nbformat_minor": 0,
  "metadata": {
    "colab": {
      "provenance": [],
      "authorship_tag": "ABX9TyOb5qM85V5O4950TTFjFI2f"
    },
    "kernelspec": {
      "name": "python3",
      "display_name": "Python 3"
    },
    "language_info": {
      "name": "python"
    }
  },
  "cells": [
    {
      "cell_type": "code",
      "source": [
        "import pandas as pd\n",
        "\n",
        "file_path = \"/content/Weather.csv\"\n",
        "df = pd.read_csv(file_path)\n",
        "\n",
        "print(\"Dataset Loaded Successfully:\\n\")\n",
        "print(df)\n"
      ],
      "metadata": {
        "colab": {
          "base_uri": "https://localhost:8080/"
        },
        "id": "nBAGcrHDF4JC",
        "outputId": "660f1df3-e084-4db3-b4bb-8b4fc590fcc5"
      },
      "execution_count": 39,
      "outputs": [
        {
          "output_type": "stream",
          "name": "stdout",
          "text": [
            "Dataset Loaded Successfully:\n",
            "\n",
            "    Day   Outlook  Temp Humidity    Wind Decision\n",
            "0     1     Sunny   Hot     High    Weak       No\n",
            "1     2     Sunny   Hot     High  Strong       No\n",
            "2     3  Overcast   Hot     High    Weak      Yes\n",
            "3     4      Rain  Mild     High    Weak      Yes\n",
            "4     5      Rain  Cool   Normal    Weak      Yes\n",
            "5     6      Rain  Cool   Normal  Strong       No\n",
            "6     7  Overcast  Cool   Normal  Strong      Yes\n",
            "7     8     Sunny  Mild     High    Weak       No\n",
            "8     9     Sunny  Cool   Normal    Weak      Yes\n",
            "9    10      Rain  Mild   Normal    Weak      Yes\n",
            "10   11     Sunny  Mild   Normal  Strong      Yes\n",
            "11   12  Overcast  Mild     High  Strong      Yes\n",
            "12   13  Overcast   Hot   Normal    Weak      Yes\n",
            "13   14      Rain  Mild     High  Strong       No\n"
          ]
        }
      ]
    },
    {
      "cell_type": "code",
      "source": [
        "import numpy as np\n",
        "from collections import Counter\n",
        "\n",
        "def entropy(data):\n",
        "    labels = data.iloc[:, -1]\n",
        "    label_counts = Counter(labels)\n",
        "    total_instances = len(data)\n",
        "\n",
        "    entropy_value = -sum((count / total_instances) * np.log2(count / total_instances) for count in label_counts.values())\n",
        "    return entropy_value\n",
        "\n",
        "dataset_entropy = entropy(df)\n",
        "print(f\"Entropy of the dataset: {dataset_entropy}\")\n"
      ],
      "metadata": {
        "colab": {
          "base_uri": "https://localhost:8080/"
        },
        "id": "yMXnVgSgF_lS",
        "outputId": "d6bcd396-bbb8-41a0-a23b-f702b750f58a"
      },
      "execution_count": 40,
      "outputs": [
        {
          "output_type": "stream",
          "name": "stdout",
          "text": [
            "Entropy of the dataset: 0.9402859586706311\n"
          ]
        }
      ]
    },
    {
      "cell_type": "code",
      "source": [
        "ignore_columns = [\"Day\"]\n",
        "attribute_entropies = {}\n",
        "\n",
        "for attr in df.columns[:-1]:\n",
        "    if attr in ignore_columns:\n",
        "        continue\n",
        "\n",
        "    attribute_entropies[attr] = entropy_of_attribute(df, attr)\n",
        "    print(f\"\\nAttribute: {attr}\")\n",
        "    for val, ent in attribute_entropies[attr].items():\n",
        "        print(f\" - {val}: {ent}\")\n",
        "\n"
      ],
      "metadata": {
        "colab": {
          "base_uri": "https://localhost:8080/"
        },
        "id": "W9hvmagOGFp6",
        "outputId": "4f371ffb-e027-40bd-83b0-e0927539dd27"
      },
      "execution_count": 41,
      "outputs": [
        {
          "output_type": "stream",
          "name": "stdout",
          "text": [
            "\n",
            "Attribute: Outlook\n",
            " - Sunny: 0.9709505944546686\n",
            " - Overcast: -0.0\n",
            " - Rain: 0.9709505944546686\n",
            "\n",
            "Attribute: Temp\n",
            " - Hot: 1.0\n",
            " - Mild: 0.9182958340544896\n",
            " - Cool: 0.8112781244591328\n",
            "\n",
            "Attribute: Humidity\n",
            " - High: 0.9852281360342515\n",
            " - Normal: 0.5916727785823275\n",
            "\n",
            "Attribute: Wind\n",
            " - Weak: 0.8112781244591328\n",
            " - Strong: 1.0\n"
          ]
        }
      ]
    },
    {
      "cell_type": "code",
      "source": [
        "def information_gain(data, attribute):\n",
        "    total_entropy = entropy(data)\n",
        "\n",
        "    attribute_values = data[attribute].unique()\n",
        "    total_instances = len(data)\n",
        "\n",
        "    weighted_entropy = 0\n",
        "    for value in attribute_values:\n",
        "        subset = data[data[attribute] == value]\n",
        "        prob = len(subset) / total_instances\n",
        "        weighted_entropy += prob * entropy(subset)\n",
        "\n",
        "    gain = total_entropy - weighted_entropy\n",
        "    return gain\n",
        "\n",
        "attributes = df.columns[:-1]\n",
        "gains = {attr: information_gain(df, attr) for attr in attributes}\n",
        "\n",
        "print(\"\\nInformation Gain for Each Attribute:\")\n",
        "for attr, gain in gains.items():\n",
        "    print(f\"{attr}: {gain}\")\n"
      ],
      "metadata": {
        "colab": {
          "base_uri": "https://localhost:8080/"
        },
        "id": "zB91XAKlGl2C",
        "outputId": "1e31dcd8-fb58-4709-892d-300419dcce56"
      },
      "execution_count": 42,
      "outputs": [
        {
          "output_type": "stream",
          "name": "stdout",
          "text": [
            "\n",
            "Information Gain for Each Attribute:\n",
            "Day: 0.9402859586706311\n",
            "Outlook: 0.24674981977443933\n",
            "Temp: 0.02922256565895487\n",
            "Humidity: 0.15183550136234159\n",
            "Wind: 0.04812703040826949\n"
          ]
        }
      ]
    },
    {
      "cell_type": "code",
      "source": [
        "def print_tree(tree, depth=0):\n",
        "    \"\"\"Recursively prints the decision tree row-wise with proper indentation.\"\"\"\n",
        "    if not isinstance(tree, dict):\n",
        "        print(\"  \" * depth + f\"⮕ Decision: {tree}\")\n",
        "        return\n",
        "\n",
        "    for attribute, branches in tree.items():\n",
        "        print(\"  \" * depth + f\"[{attribute}]\")\n",
        "        for value, subtree in branches.items():\n",
        "            print(\"  \" * (depth + 1) + f\"→ {value}:\")\n",
        "            print_tree(subtree, depth + 2)\n",
        "print(\"\\nDecision Tree (Row-wise):\")\n",
        "print_tree(decision_tree)\n",
        "\n"
      ],
      "metadata": {
        "colab": {
          "base_uri": "https://localhost:8080/"
        },
        "id": "y6MqVPqTGo5i",
        "outputId": "26560f6f-f53c-42e4-9eeb-d9c9b0e68ac5"
      },
      "execution_count": 43,
      "outputs": [
        {
          "output_type": "stream",
          "name": "stdout",
          "text": [
            "\n",
            "Decision Tree (Row-wise):\n",
            "[Day]\n",
            "  → 1:\n",
            "    ⮕ Decision: No\n",
            "  → 2:\n",
            "    ⮕ Decision: No\n",
            "  → 3:\n",
            "    ⮕ Decision: Yes\n",
            "  → 4:\n",
            "    ⮕ Decision: Yes\n",
            "  → 5:\n",
            "    ⮕ Decision: Yes\n",
            "  → 6:\n",
            "    ⮕ Decision: No\n",
            "  → 7:\n",
            "    ⮕ Decision: Yes\n",
            "  → 8:\n",
            "    ⮕ Decision: No\n",
            "  → 9:\n",
            "    ⮕ Decision: Yes\n",
            "  → 10:\n",
            "    ⮕ Decision: Yes\n",
            "  → 11:\n",
            "    ⮕ Decision: Yes\n",
            "  → 12:\n",
            "    ⮕ Decision: Yes\n",
            "  → 13:\n",
            "    ⮕ Decision: Yes\n",
            "  → 14:\n",
            "    ⮕ Decision: No\n"
          ]
        }
      ]
    }
  ]
}